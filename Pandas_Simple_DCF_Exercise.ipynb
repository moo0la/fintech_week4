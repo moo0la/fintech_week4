{
  "nbformat": 4,
  "nbformat_minor": 0,
  "metadata": {
    "colab": {
      "name": "Pandas: Simple DCF Exercise.ipynb",
      "provenance": [],
      "authorship_tag": "ABX9TyOFVaq5mKeFURHwDi0GDlBl"
    },
    "kernelspec": {
      "name": "python3",
      "display_name": "Python 3"
    },
    "language_info": {
      "name": "python"
    }
  },
  "cells": [
    {
      "cell_type": "code",
      "metadata": {
        "id": "ffuwwPwmxINR"
      },
      "source": [
        "import pandas as pd"
      ],
      "execution_count": null,
      "outputs": []
    },
    {
      "cell_type": "code",
      "metadata": {
        "id": "8k8AhDQjOlkf"
      },
      "source": [
        "int_revenue = 222\n",
        "growth_factor = 0.18\n",
        "EBITDA_Margin = 0.45\n",
        "NTaxes = 0.21\n",
        "NCap_Ex = 0.03\n",
        "NWork_Cap = 0.06\n",
        "EBITDA_Exit_Multiple = 32.70\n",
        "NDiscount_Factor= 0.94 \n",
        "WACC= 0.06"
      ],
      "execution_count": null,
      "outputs": []
    },
    {
      "cell_type": "code",
      "metadata": {
        "id": "yACS251nOl5J"
      },
      "source": [
        "df = pd.DataFrame(columns = [ \"Revenue\" ,\"EBITDA\" ,\"Taxes\",\"Cap_Ex\" ,\"Work_Cap\" ,\"Cash_Flow\" ,\"Discount_Factor\" ,\"Present_Value_of_FCF\" ],\n",
        "                  index=pd.date_range(start ='2022',end ='2033', freq='Y').year)"
      ],
      "execution_count": null,
      "outputs": []
    },
    {
      "cell_type": "code",
      "metadata": {
        "id": "DeBVmYxMOmCq"
      },
      "source": [
        "df.loc[2022,\"Revenue\"] = int_revenue * (1 + growth_factor)"
      ],
      "execution_count": null,
      "outputs": []
    },
    {
      "cell_type": "code",
      "metadata": {
        "id": "DegWfMasOmLJ"
      },
      "source": [
        "for i in range (1,len(df)):\n",
        "    df.iloc[i][\"Revenue\"] = df.iloc[i -1][\"Revenue\"] * (1 + growth_factor)"
      ],
      "execution_count": null,
      "outputs": []
    },
    {
      "cell_type": "code",
      "metadata": {
        "id": "drt6nFDaDHoK"
      },
      "source": [
        "df[\"EBITDA\"] = df [\"Revenue\"] * EBITDA_Margin"
      ],
      "execution_count": null,
      "outputs": []
    },
    {
      "cell_type": "code",
      "metadata": {
        "id": "SfMwM1oHPn7I"
      },
      "source": [
        "\n",
        "df[\"Taxes\"] = -df [\"EBITDA\"] * NTaxes\n"
      ],
      "execution_count": null,
      "outputs": []
    },
    {
      "cell_type": "code",
      "metadata": {
        "id": "oLl7dWWhPAil"
      },
      "source": [
        "df[\"Cap_Ex\"] = -df [\"Revenue\"] * NCap_Ex\n"
      ],
      "execution_count": null,
      "outputs": []
    },
    {
      "cell_type": "code",
      "metadata": {
        "id": "tQOfiuyrPAx3"
      },
      "source": [
        "df[\"Work_Cap\"] = -df [\"Revenue\"] * NWork_Cap\n"
      ],
      "execution_count": null,
      "outputs": []
    },
    {
      "cell_type": "code",
      "metadata": {
        "id": "GNiRiuuHQFNS"
      },
      "source": [
        "df[\"Cash_Flow\"] = df[\"EBITDA\"] + df[\"Taxes\"] + df[\"Cap_Ex\"] + df[\"Work_Cap\"]"
      ],
      "execution_count": null,
      "outputs": []
    },
    {
      "cell_type": "code",
      "metadata": {
        "colab": {
          "base_uri": "https://localhost:8080/",
          "height": 390
        },
        "id": "bt0DUy2CPA7g",
        "outputId": "eb6cf3d0-df82-4803-8e6d-e2960bc6fe31"
      },
      "source": [
        "df"
      ],
      "execution_count": null,
      "outputs": [
        {
          "output_type": "execute_result",
          "data": {
            "text/html": [
              "<div>\n",
              "<style scoped>\n",
              "    .dataframe tbody tr th:only-of-type {\n",
              "        vertical-align: middle;\n",
              "    }\n",
              "\n",
              "    .dataframe tbody tr th {\n",
              "        vertical-align: top;\n",
              "    }\n",
              "\n",
              "    .dataframe thead th {\n",
              "        text-align: right;\n",
              "    }\n",
              "</style>\n",
              "<table border=\"1\" class=\"dataframe\">\n",
              "  <thead>\n",
              "    <tr style=\"text-align: right;\">\n",
              "      <th></th>\n",
              "      <th>Revenue</th>\n",
              "      <th>EBITDA</th>\n",
              "      <th>Taxes</th>\n",
              "      <th>Cap_Ex</th>\n",
              "      <th>Work_Cap</th>\n",
              "      <th>Cash_Flow</th>\n",
              "      <th>Discount_Factor</th>\n",
              "      <th>Present_Value_of_FCF</th>\n",
              "    </tr>\n",
              "  </thead>\n",
              "  <tbody>\n",
              "    <tr>\n",
              "      <th>2022</th>\n",
              "      <td>261.96</td>\n",
              "      <td>117.882</td>\n",
              "      <td>-24.7552</td>\n",
              "      <td>-7.8588</td>\n",
              "      <td>-15.7176</td>\n",
              "      <td>69.5504</td>\n",
              "      <td>NaN</td>\n",
              "      <td>NaN</td>\n",
              "    </tr>\n",
              "    <tr>\n",
              "      <th>2023</th>\n",
              "      <td>309.113</td>\n",
              "      <td>139.101</td>\n",
              "      <td>-29.2112</td>\n",
              "      <td>-9.27338</td>\n",
              "      <td>-18.5468</td>\n",
              "      <td>82.0694</td>\n",
              "      <td>NaN</td>\n",
              "      <td>NaN</td>\n",
              "    </tr>\n",
              "    <tr>\n",
              "      <th>2024</th>\n",
              "      <td>364.753</td>\n",
              "      <td>164.139</td>\n",
              "      <td>-34.4692</td>\n",
              "      <td>-10.9426</td>\n",
              "      <td>-21.8852</td>\n",
              "      <td>96.8419</td>\n",
              "      <td>NaN</td>\n",
              "      <td>NaN</td>\n",
              "    </tr>\n",
              "    <tr>\n",
              "      <th>2025</th>\n",
              "      <td>430.409</td>\n",
              "      <td>193.684</td>\n",
              "      <td>-40.6736</td>\n",
              "      <td>-12.9123</td>\n",
              "      <td>-25.8245</td>\n",
              "      <td>114.273</td>\n",
              "      <td>NaN</td>\n",
              "      <td>NaN</td>\n",
              "    </tr>\n",
              "    <tr>\n",
              "      <th>2026</th>\n",
              "      <td>507.882</td>\n",
              "      <td>228.547</td>\n",
              "      <td>-47.9949</td>\n",
              "      <td>-15.2365</td>\n",
              "      <td>-30.4729</td>\n",
              "      <td>134.843</td>\n",
              "      <td>NaN</td>\n",
              "      <td>NaN</td>\n",
              "    </tr>\n",
              "    <tr>\n",
              "      <th>2027</th>\n",
              "      <td>599.301</td>\n",
              "      <td>269.685</td>\n",
              "      <td>-56.6339</td>\n",
              "      <td>-17.979</td>\n",
              "      <td>-35.9581</td>\n",
              "      <td>159.114</td>\n",
              "      <td>NaN</td>\n",
              "      <td>NaN</td>\n",
              "    </tr>\n",
              "    <tr>\n",
              "      <th>2028</th>\n",
              "      <td>707.175</td>\n",
              "      <td>318.229</td>\n",
              "      <td>-66.8281</td>\n",
              "      <td>-21.2153</td>\n",
              "      <td>-42.4305</td>\n",
              "      <td>187.755</td>\n",
              "      <td>NaN</td>\n",
              "      <td>NaN</td>\n",
              "    </tr>\n",
              "    <tr>\n",
              "      <th>2029</th>\n",
              "      <td>834.467</td>\n",
              "      <td>375.51</td>\n",
              "      <td>-78.8571</td>\n",
              "      <td>-25.034</td>\n",
              "      <td>-50.068</td>\n",
              "      <td>221.551</td>\n",
              "      <td>NaN</td>\n",
              "      <td>NaN</td>\n",
              "    </tr>\n",
              "    <tr>\n",
              "      <th>2030</th>\n",
              "      <td>984.671</td>\n",
              "      <td>443.102</td>\n",
              "      <td>-93.0514</td>\n",
              "      <td>-29.5401</td>\n",
              "      <td>-59.0802</td>\n",
              "      <td>261.43</td>\n",
              "      <td>NaN</td>\n",
              "      <td>NaN</td>\n",
              "    </tr>\n",
              "    <tr>\n",
              "      <th>2031</th>\n",
              "      <td>1161.91</td>\n",
              "      <td>522.86</td>\n",
              "      <td>-109.801</td>\n",
              "      <td>-34.8573</td>\n",
              "      <td>-69.7147</td>\n",
              "      <td>308.488</td>\n",
              "      <td>NaN</td>\n",
              "      <td>NaN</td>\n",
              "    </tr>\n",
              "    <tr>\n",
              "      <th>2032</th>\n",
              "      <td>1371.06</td>\n",
              "      <td>616.975</td>\n",
              "      <td>-129.565</td>\n",
              "      <td>-41.1317</td>\n",
              "      <td>-82.2633</td>\n",
              "      <td>364.015</td>\n",
              "      <td>NaN</td>\n",
              "      <td>NaN</td>\n",
              "    </tr>\n",
              "  </tbody>\n",
              "</table>\n",
              "</div>"
            ],
            "text/plain": [
              "      Revenue   EBITDA    Taxes  ... Cash_Flow Discount_Factor Present_Value_of_FCF\n",
              "2022   261.96  117.882 -24.7552  ...   69.5504             NaN                  NaN\n",
              "2023  309.113  139.101 -29.2112  ...   82.0694             NaN                  NaN\n",
              "2024  364.753  164.139 -34.4692  ...   96.8419             NaN                  NaN\n",
              "2025  430.409  193.684 -40.6736  ...   114.273             NaN                  NaN\n",
              "2026  507.882  228.547 -47.9949  ...   134.843             NaN                  NaN\n",
              "2027  599.301  269.685 -56.6339  ...   159.114             NaN                  NaN\n",
              "2028  707.175  318.229 -66.8281  ...   187.755             NaN                  NaN\n",
              "2029  834.467   375.51 -78.8571  ...   221.551             NaN                  NaN\n",
              "2030  984.671  443.102 -93.0514  ...    261.43             NaN                  NaN\n",
              "2031  1161.91   522.86 -109.801  ...   308.488             NaN                  NaN\n",
              "2032  1371.06  616.975 -129.565  ...   364.015             NaN                  NaN\n",
              "\n",
              "[11 rows x 8 columns]"
            ]
          },
          "metadata": {},
          "execution_count": 168
        }
      ]
    },
    {
      "cell_type": "code",
      "metadata": {
        "id": "h2DEEYqrR8Vs"
      },
      "source": [
        "df.iloc[0][\"Discount_Factor\"]= Discount_Factor\n",
        "for i in range(1,len(df)):\n",
        "  \n",
        "    df.iloc[i][\"Discount_Factor\"] = (1 + WACC) ** -(i +1)"
      ],
      "execution_count": null,
      "outputs": []
    },
    {
      "cell_type": "code",
      "metadata": {
        "id": "L_vxZz5zUhuL"
      },
      "source": [
        "df[\"Present_Value_of_FCF\"] = df[\"Cash_Flow\"] * df[\"Discount_Factor\"]"
      ],
      "execution_count": null,
      "outputs": []
    },
    {
      "cell_type": "code",
      "metadata": {
        "colab": {
          "base_uri": "https://localhost:8080/",
          "height": 390
        },
        "id": "m0n-7N7iUrV3",
        "outputId": "f4446bef-4c98-444b-fcfc-1d811a50ee48"
      },
      "source": [
        "df"
      ],
      "execution_count": null,
      "outputs": [
        {
          "output_type": "execute_result",
          "data": {
            "text/html": [
              "<div>\n",
              "<style scoped>\n",
              "    .dataframe tbody tr th:only-of-type {\n",
              "        vertical-align: middle;\n",
              "    }\n",
              "\n",
              "    .dataframe tbody tr th {\n",
              "        vertical-align: top;\n",
              "    }\n",
              "\n",
              "    .dataframe thead th {\n",
              "        text-align: right;\n",
              "    }\n",
              "</style>\n",
              "<table border=\"1\" class=\"dataframe\">\n",
              "  <thead>\n",
              "    <tr style=\"text-align: right;\">\n",
              "      <th></th>\n",
              "      <th>Revenue</th>\n",
              "      <th>EBITDA</th>\n",
              "      <th>Taxes</th>\n",
              "      <th>Cap_Ex</th>\n",
              "      <th>Work_Cap</th>\n",
              "      <th>Cash_Flow</th>\n",
              "      <th>Discount_Factor</th>\n",
              "      <th>Present_Value_of_FCF</th>\n",
              "    </tr>\n",
              "  </thead>\n",
              "  <tbody>\n",
              "    <tr>\n",
              "      <th>2022</th>\n",
              "      <td>261.96</td>\n",
              "      <td>117.882</td>\n",
              "      <td>-24.7552</td>\n",
              "      <td>-7.8588</td>\n",
              "      <td>-15.7176</td>\n",
              "      <td>69.5504</td>\n",
              "      <td>0.94</td>\n",
              "      <td>65.3774</td>\n",
              "    </tr>\n",
              "    <tr>\n",
              "      <th>2023</th>\n",
              "      <td>309.113</td>\n",
              "      <td>139.101</td>\n",
              "      <td>-29.2112</td>\n",
              "      <td>-9.27338</td>\n",
              "      <td>-18.5468</td>\n",
              "      <td>82.0694</td>\n",
              "      <td>0.889996</td>\n",
              "      <td>73.0415</td>\n",
              "    </tr>\n",
              "    <tr>\n",
              "      <th>2024</th>\n",
              "      <td>364.753</td>\n",
              "      <td>164.139</td>\n",
              "      <td>-34.4692</td>\n",
              "      <td>-10.9426</td>\n",
              "      <td>-21.8852</td>\n",
              "      <td>96.8419</td>\n",
              "      <td>0.839619</td>\n",
              "      <td>81.3104</td>\n",
              "    </tr>\n",
              "    <tr>\n",
              "      <th>2025</th>\n",
              "      <td>430.409</td>\n",
              "      <td>193.684</td>\n",
              "      <td>-40.6736</td>\n",
              "      <td>-12.9123</td>\n",
              "      <td>-25.8245</td>\n",
              "      <td>114.273</td>\n",
              "      <td>0.792094</td>\n",
              "      <td>90.5153</td>\n",
              "    </tr>\n",
              "    <tr>\n",
              "      <th>2026</th>\n",
              "      <td>507.882</td>\n",
              "      <td>228.547</td>\n",
              "      <td>-47.9949</td>\n",
              "      <td>-15.2365</td>\n",
              "      <td>-30.4729</td>\n",
              "      <td>134.843</td>\n",
              "      <td>0.747258</td>\n",
              "      <td>100.762</td>\n",
              "    </tr>\n",
              "    <tr>\n",
              "      <th>2027</th>\n",
              "      <td>599.301</td>\n",
              "      <td>269.685</td>\n",
              "      <td>-56.6339</td>\n",
              "      <td>-17.979</td>\n",
              "      <td>-35.9581</td>\n",
              "      <td>159.114</td>\n",
              "      <td>0.704961</td>\n",
              "      <td>112.169</td>\n",
              "    </tr>\n",
              "    <tr>\n",
              "      <th>2028</th>\n",
              "      <td>707.175</td>\n",
              "      <td>318.229</td>\n",
              "      <td>-66.8281</td>\n",
              "      <td>-21.2153</td>\n",
              "      <td>-42.4305</td>\n",
              "      <td>187.755</td>\n",
              "      <td>0.665057</td>\n",
              "      <td>124.868</td>\n",
              "    </tr>\n",
              "    <tr>\n",
              "      <th>2029</th>\n",
              "      <td>834.467</td>\n",
              "      <td>375.51</td>\n",
              "      <td>-78.8571</td>\n",
              "      <td>-25.034</td>\n",
              "      <td>-50.068</td>\n",
              "      <td>221.551</td>\n",
              "      <td>0.627412</td>\n",
              "      <td>139.004</td>\n",
              "    </tr>\n",
              "    <tr>\n",
              "      <th>2030</th>\n",
              "      <td>984.671</td>\n",
              "      <td>443.102</td>\n",
              "      <td>-93.0514</td>\n",
              "      <td>-29.5401</td>\n",
              "      <td>-59.0802</td>\n",
              "      <td>261.43</td>\n",
              "      <td>0.591898</td>\n",
              "      <td>154.74</td>\n",
              "    </tr>\n",
              "    <tr>\n",
              "      <th>2031</th>\n",
              "      <td>1161.91</td>\n",
              "      <td>522.86</td>\n",
              "      <td>-109.801</td>\n",
              "      <td>-34.8573</td>\n",
              "      <td>-69.7147</td>\n",
              "      <td>308.488</td>\n",
              "      <td>0.558395</td>\n",
              "      <td>172.258</td>\n",
              "    </tr>\n",
              "    <tr>\n",
              "      <th>2032</th>\n",
              "      <td>1371.06</td>\n",
              "      <td>616.975</td>\n",
              "      <td>-129.565</td>\n",
              "      <td>-41.1317</td>\n",
              "      <td>-82.2633</td>\n",
              "      <td>364.015</td>\n",
              "      <td>0.526788</td>\n",
              "      <td>191.759</td>\n",
              "    </tr>\n",
              "  </tbody>\n",
              "</table>\n",
              "</div>"
            ],
            "text/plain": [
              "      Revenue   EBITDA    Taxes  ... Cash_Flow Discount_Factor Present_Value_of_FCF\n",
              "2022   261.96  117.882 -24.7552  ...   69.5504            0.94              65.3774\n",
              "2023  309.113  139.101 -29.2112  ...   82.0694        0.889996              73.0415\n",
              "2024  364.753  164.139 -34.4692  ...   96.8419        0.839619              81.3104\n",
              "2025  430.409  193.684 -40.6736  ...   114.273        0.792094              90.5153\n",
              "2026  507.882  228.547 -47.9949  ...   134.843        0.747258              100.762\n",
              "2027  599.301  269.685 -56.6339  ...   159.114        0.704961              112.169\n",
              "2028  707.175  318.229 -66.8281  ...   187.755        0.665057              124.868\n",
              "2029  834.467   375.51 -78.8571  ...   221.551        0.627412              139.004\n",
              "2030  984.671  443.102 -93.0514  ...    261.43        0.591898               154.74\n",
              "2031  1161.91   522.86 -109.801  ...   308.488        0.558395              172.258\n",
              "2032  1371.06  616.975 -129.565  ...   364.015        0.526788              191.759\n",
              "\n",
              "[11 rows x 8 columns]"
            ]
          },
          "metadata": {},
          "execution_count": 171
        }
      ]
    },
    {
      "cell_type": "code",
      "metadata": {
        "colab": {
          "base_uri": "https://localhost:8080/"
        },
        "id": "62jutF3ozO8A",
        "outputId": "f98105f3-eb8d-439a-9f39-103ccae285b1"
      },
      "source": [
        "terminal_value = (df.loc[2032, \"EBITDA\"] * EBITDA_Exit_Multiple)\n",
        "terminal_value"
      ],
      "execution_count": null,
      "outputs": [
        {
          "output_type": "execute_result",
          "data": {
            "text/plain": [
              "20175.082590019254"
            ]
          },
          "metadata": {},
          "execution_count": 191
        }
      ]
    },
    {
      "cell_type": "code",
      "metadata": {
        "colab": {
          "base_uri": "https://localhost:8080/"
        },
        "id": "LOQfg3wk18Md",
        "outputId": "af2d9fe4-5a21-41be-a0ef-d5d7dd4d142a"
      },
      "source": [
        "present_teminal_value = terminal_value * df.loc[2031, \"Discount_Factor\"]\n",
        "present_teminal_value"
      ],
      "execution_count": null,
      "outputs": [
        {
          "output_type": "execute_result",
          "data": {
            "text/plain": [
              "11265.66074209788"
            ]
          },
          "metadata": {},
          "execution_count": 173
        }
      ]
    },
    {
      "cell_type": "code",
      "metadata": {
        "colab": {
          "base_uri": "https://localhost:8080/"
        },
        "id": "X029MIHE3dfD",
        "outputId": "dfd5d2f7-7af8-4350-dc3e-c97daabb3e75"
      },
      "source": [
        "present_value_of_projected = df[\"Cash_Flow\"].drop(index=2032).sum()\n",
        "present_value_of_projected"
      ],
      "execution_count": null,
      "outputs": [
        {
          "output_type": "execute_result",
          "data": {
            "text/plain": [
              "1635.9159534677815"
            ]
          },
          "metadata": {},
          "execution_count": 184
        }
      ]
    },
    {
      "cell_type": "code",
      "metadata": {
        "colab": {
          "base_uri": "https://localhost:8080/"
        },
        "id": "_M1FPEXR76q4",
        "outputId": "83fa0b5c-fa37-459b-89b2-4769c4ad2d85"
      },
      "source": [
        "message = f\"\"\"\n",
        "Our projected Present Value of Projected Future Cash Flows are:{int (present_value_of_projected)}.\n",
        "\n",
        "\n",
        "We are providing revenue guidance in 2032 to be: {int (df.loc[2032, \"Revenue\"])}.\n",
        "\n",
        "With an estimated EBITDA around: {int (df.loc[2032, \"EBITDA\"])}.\n",
        "\n",
        "The terminal value a this time given a multiple of 32.70\n",
        "\n",
        "and the above EBITDA for 2030, would equal: {int (terminal_value)}.\n",
        "\n",
        "\"\"\"\n",
        "print( message)"
      ],
      "execution_count": null,
      "outputs": [
        {
          "output_type": "stream",
          "name": "stdout",
          "text": [
            "\n",
            "Our projected Present Value of Projected Future Cash Flows are:1635.\n",
            "\n",
            "\n",
            "We are providing revenue guidance in 2032 to be: 1371.\n",
            "\n",
            "With an estimated EBITDA around: 616.\n",
            "\n",
            "The terminal value a this time given a multiple of 32.70\n",
            "\n",
            "and the above EBITDA for 2030, would equal: 20175.\n",
            "\n",
            "\n"
          ]
        }
      ]
    }
  ]
}