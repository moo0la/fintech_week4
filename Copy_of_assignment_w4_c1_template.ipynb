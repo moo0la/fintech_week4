{
  "nbformat": 4,
  "nbformat_minor": 0,
  "metadata": {
    "kernelspec": {
      "display_name": "Python 3",
      "language": "python",
      "name": "python3"
    },
    "language_info": {
      "codemirror_mode": {
        "name": "ipython",
        "version": 3
      },
      "file_extension": ".py",
      "mimetype": "text/x-python",
      "name": "python",
      "nbconvert_exporter": "python",
      "pygments_lexer": "ipython3",
      "version": "3.8.8"
    },
    "colab": {
      "name": "Copy of assignment_w4_c1_template.ipynb",
      "provenance": [],
      "collapsed_sections": [],
      "include_colab_link": true
    }
  },
  "cells": [
    {
      "cell_type": "markdown",
      "metadata": {
        "id": "view-in-github",
        "colab_type": "text"
      },
      "source": [
        "<a href=\"https://colab.research.google.com/github/moo0la/fintech_week4/blob/main/Copy_of_assignment_w4_c1_template.ipynb\" target=\"_parent\"><img src=\"https://colab.research.google.com/assets/colab-badge.svg\" alt=\"Open In Colab\"/></a>"
      ]
    },
    {
      "cell_type": "markdown",
      "metadata": {
        "id": "7mrYBj5rMoTh"
      },
      "source": [
        "Week 4, Assignment C1:\n",
        "\n",
        "CAPM and Modern Portfolio Theory in Python\n",
        "\n",
        "In this notebook, we will study Modern Portfolio Theory in Python.\n",
        "Please complete the lines bellow where you see \"# TODO\"."
      ]
    },
    {
      "cell_type": "code",
      "metadata": {
        "id": "I-2EzLkcMoTs"
      },
      "source": [
        "#Objective 1.\n",
        "#Use this cell to import Numpy (as np) and Pyplot (from Matplotlib as plt) packages.\n",
        "\n",
        "import numpy as np\n",
        "import pandas as pd\n",
        "import plotly as py\n",
        "import matplotlib.pyplot as plt"
      ],
      "execution_count": 2,
      "outputs": []
    },
    {
      "cell_type": "code",
      "metadata": {
        "id": "NgrwT2K4MoTv"
      },
      "source": [
        "#Objective 2.\n",
        "#Select a number of asset classes ( > 1 ) and a number of observations ( > 500 ).  Store your chosen values to the\n",
        "#two new variables \"no_of_asset_classes\" and \"no_of_observations\", respectively.\n",
        "\n",
        "\n",
        "no_of_asset_classes = 5\n",
        "no_of_observations = 500"
      ],
      "execution_count": 3,
      "outputs": []
    },
    {
      "cell_type": "code",
      "metadata": {
        "id": "YVEwjjnKMoTw"
      },
      "source": [
        "np.random.seed(123)\n",
        "matrix_of_return_values = np.random.randn(no_of_asset_classes, no_of_observations)\n",
        "\n",
        "#Objective 3.\n",
        "#Select a number of test portfolios to generate ( > 1,000 < 20,000).  Store your chosen value to the new variable\n",
        "#\"no_of_portfolios\".  \n",
        "\n",
        "no_of_portfolios = 1000"
      ],
      "execution_count": 4,
      "outputs": []
    },
    {
      "cell_type": "code",
      "metadata": {
        "id": "0DAAzSk9MoTx"
      },
      "source": [
        "#Objective 4.\n",
        "#Initialize four empty lists called \"collection_of_random_asset_weights\", \"portfolio_means\",\n",
        "#\"portfolio_standard_deviations\", and \"portfolio_sharpe_ratios\", respectively.\n",
        "\n",
        "collection_of_random_asset_weights = []\n",
        "portfolio_means = []\n",
        "portfolio_standard_deviations = []\n",
        "portfolio_sharpe_ratios = []"
      ],
      "execution_count": 5,
      "outputs": []
    },
    {
      "cell_type": "code",
      "metadata": {
        "id": "z0jPPXk9MoTy",
        "colab": {
          "base_uri": "https://localhost:8080/"
        },
        "outputId": "61a13c75-b3ab-4d72-de0a-f6e985147284"
      },
      "source": [
        "#Objective 5.\n",
        "#Write a function called \"get_random_asset_weights\" that takes as input (Input.I) any number of asset classes\n",
        "#\"no_of_asset_classes\" and returns (Output.I) a Numpy vector (matrix) of weights (percentages) of length \"no_of_asset_classes\"\n",
        "#whose sum is one (1).\n",
        "\n",
        "def get_random_asset_weights(no_of_asset_classes):\n",
        "    random_asset_weights = np.random.rand(no_of_asset_classes)\n",
        "    total=np.sum( random_asset_weights)\n",
        "    random_asset_weights =random_asset_weights/total\n",
        "    return random_asset_weights \n",
        "get_random_asset_weights(no_of_asset_classes)\n",
        "    "
      ],
      "execution_count": 6,
      "outputs": [
        {
          "output_type": "execute_result",
          "data": {
            "text/plain": [
              "array([0.26478219, 0.11670707, 0.02349743, 0.30306495, 0.29194836])"
            ]
          },
          "metadata": {},
          "execution_count": 6
        }
      ]
    },
    {
      "cell_type": "code",
      "metadata": {
        "id": "oplAPiwAMoTz"
      },
      "source": [
        "#Objective 6.\n",
        "#Write a function called \"get_portfolio_statistics\" that takes as input (Input.I) a Numpy vector (matrix)\n",
        "#\"asset_weights\" of weights (percentages) whose sum is one (1) and (Input.II) a Numpy matrix of return values\n",
        "#\"matrix_of_return_values\" whose first axis length is the same as the length of the Numpy vector (matrix)\n",
        "#\"asset_weights\" and returns (Output.I) the mean \"portfolio_mean\", (Output.II) the standard deviation\n",
        "#\"portfolio_standard_deviation\", and (Output.III) the Sharpe ratio \"portfolio_sharpe_ratio\" of the portfolio of\n",
        "#assets with asset weights \"asset_weights\" and asset return values belonging to \"matrix_of_return_values\".\n",
        "\n",
        "def get_portfolio_statistics(asset_weights, matrix_of_return_values): \n",
        "    asset_means = np.asmatrix(np.mean(matrix_of_return_values, axis = 1)) \n",
        "    asset_covariances = np.asmatrix(np.cov(matrix_of_return_values)) \n",
        "    portfolio_mean = asset_weights * asset_means.T \n",
        "    #portfolio_mean = #todo second line if needed. \n",
        "    portfolio_standard_deviation = np.sqrt(asset_weights * asset_covariances * asset_weights.T) \n",
        "    #portfolio_standard_deviation = #todo second line if needed. \n",
        "    portfolio_sharpe_ratio = portfolio_mean / portfolio_standard_deviation.item() \n",
        "    return portfolio_mean.item(), portfolio_standard_deviation.item(), portfolio_sharpe_ratio\n",
        "\n",
        "\n"
      ],
      "execution_count": 7,
      "outputs": []
    },
    {
      "cell_type": "code",
      "metadata": {
        "id": "70A31Xq5MoT0",
        "colab": {
          "base_uri": "https://localhost:8080/",
          "height": 408
        },
        "outputId": "eef8e5da-c87a-4847-961d-e39a44daefe1"
      },
      "source": [
        "#Objective 7.\n",
        "#Using the functions constructed in Objectives 5 and 6, write a loop that, on each iteration, determines a\n",
        "#Numpy vector (matrix) of weights (percentages) \"random_asset_weights\" of length \"no_of_asset_classes\" whose sum \n",
        "#is one (1) and then appends to each of the lists \"collection_of_random_asset_weights\", \"portfolio_means\",\n",
        "#\"portfolio_standard_deviations\", and \"portfolio_sharpe_ratios\" the Numpy vector (matrix) of weights (percentages)\n",
        "#\"random_asset_weights\"; and the mean \"portfolio_mean\", the standard deviation \"portfolio_standard_deviation\", and\n",
        "#the Sharpe ratio \"portfolio_sharpe_ratio\" of the portfolio of assets with asset weights \"asset_weights\" and asset \n",
        "#return values belonging to \"matrix_of_return_values\", respectively.\n",
        "\n",
        "while len(collection_of_random_asset_weights) < no_of_portfolios:\n",
        "    random_asset_weights = get_random_asset_weights(no_of_asset_classes  )\n",
        "    collection_of_random_asset_weights.append(random_asset_weights)\n",
        "\n",
        "    e_r, volatility, sr = get_portfolio_statistics(\n",
        "         asset_weights = random_asset_weights ,\n",
        "         matrix_of_return_values=matrix_of_return_values\n",
        "         )\n",
        "    portfolio_means.append(e_r) \n",
        "    portfolio_standard_deviations.append(volatility) \n",
        "    portfolio_sharpe_ratios.append(sr) \n"
      ],
      "execution_count": 8,
      "outputs": [
        {
          "output_type": "error",
          "ename": "ValueError",
          "evalue": "ignored",
          "traceback": [
            "\u001b[0;31m---------------------------------------------------------------------------\u001b[0m",
            "\u001b[0;31mValueError\u001b[0m                                Traceback (most recent call last)",
            "\u001b[0;32m<ipython-input-8-bf642426ce41>\u001b[0m in \u001b[0;36m<module>\u001b[0;34m()\u001b[0m\n\u001b[1;32m     14\u001b[0m     e_r, volatility, sr = get_portfolio_statistics(\n\u001b[1;32m     15\u001b[0m          \u001b[0masset_weights\u001b[0m \u001b[0;34m=\u001b[0m \u001b[0mrandom_asset_weights\u001b[0m \u001b[0;34m,\u001b[0m\u001b[0;34m\u001b[0m\u001b[0;34m\u001b[0m\u001b[0m\n\u001b[0;32m---> 16\u001b[0;31m          \u001b[0mmatrix_of_return_values\u001b[0m\u001b[0;34m=\u001b[0m\u001b[0mmatrix_of_return_values\u001b[0m\u001b[0;34m\u001b[0m\u001b[0;34m\u001b[0m\u001b[0m\n\u001b[0m\u001b[1;32m     17\u001b[0m          )\n\u001b[1;32m     18\u001b[0m     \u001b[0mportfolio_means\u001b[0m\u001b[0;34m.\u001b[0m\u001b[0mappend\u001b[0m\u001b[0;34m(\u001b[0m\u001b[0me_r\u001b[0m\u001b[0;34m)\u001b[0m\u001b[0;34m\u001b[0m\u001b[0;34m\u001b[0m\u001b[0m\n",
            "\u001b[0;32m<ipython-input-7-c8d34aa6af89>\u001b[0m in \u001b[0;36mget_portfolio_statistics\u001b[0;34m(asset_weights, matrix_of_return_values)\u001b[0m\n\u001b[1;32m     12\u001b[0m     \u001b[0mportfolio_mean\u001b[0m \u001b[0;34m=\u001b[0m \u001b[0masset_weights\u001b[0m \u001b[0;34m*\u001b[0m \u001b[0masset_means\u001b[0m\u001b[0;34m.\u001b[0m\u001b[0mT\u001b[0m\u001b[0;34m\u001b[0m\u001b[0;34m\u001b[0m\u001b[0m\n\u001b[1;32m     13\u001b[0m     \u001b[0;31m#portfolio_mean = #todo second line if needed.\u001b[0m\u001b[0;34m\u001b[0m\u001b[0;34m\u001b[0m\u001b[0;34m\u001b[0m\u001b[0m\n\u001b[0;32m---> 14\u001b[0;31m     \u001b[0mportfolio_standard_deviation\u001b[0m \u001b[0;34m=\u001b[0m \u001b[0mnp\u001b[0m\u001b[0;34m.\u001b[0m\u001b[0msqrt\u001b[0m\u001b[0;34m(\u001b[0m\u001b[0masset_weights\u001b[0m \u001b[0;34m*\u001b[0m \u001b[0masset_covariances\u001b[0m \u001b[0;34m*\u001b[0m \u001b[0masset_weights\u001b[0m\u001b[0;34m.\u001b[0m\u001b[0mT\u001b[0m\u001b[0;34m)\u001b[0m\u001b[0;34m\u001b[0m\u001b[0;34m\u001b[0m\u001b[0m\n\u001b[0m\u001b[1;32m     15\u001b[0m     \u001b[0;31m#portfolio_standard_deviation = #todo second line if needed.\u001b[0m\u001b[0;34m\u001b[0m\u001b[0;34m\u001b[0m\u001b[0;34m\u001b[0m\u001b[0m\n\u001b[1;32m     16\u001b[0m     \u001b[0mportfolio_sharpe_ratio\u001b[0m \u001b[0;34m=\u001b[0m \u001b[0mportfolio_mean\u001b[0m \u001b[0;34m/\u001b[0m \u001b[0mportfolio_standard_deviation\u001b[0m\u001b[0;34m.\u001b[0m\u001b[0mitem\u001b[0m\u001b[0;34m(\u001b[0m\u001b[0;34m)\u001b[0m\u001b[0;34m\u001b[0m\u001b[0;34m\u001b[0m\u001b[0m\n",
            "\u001b[0;32m/usr/local/lib/python3.7/dist-packages/numpy/matrixlib/defmatrix.py\u001b[0m in \u001b[0;36m__mul__\u001b[0;34m(self, other)\u001b[0m\n\u001b[1;32m    216\u001b[0m         \u001b[0;32mif\u001b[0m \u001b[0misinstance\u001b[0m\u001b[0;34m(\u001b[0m\u001b[0mother\u001b[0m\u001b[0;34m,\u001b[0m \u001b[0;34m(\u001b[0m\u001b[0mN\u001b[0m\u001b[0;34m.\u001b[0m\u001b[0mndarray\u001b[0m\u001b[0;34m,\u001b[0m \u001b[0mlist\u001b[0m\u001b[0;34m,\u001b[0m \u001b[0mtuple\u001b[0m\u001b[0;34m)\u001b[0m\u001b[0;34m)\u001b[0m \u001b[0;34m:\u001b[0m\u001b[0;34m\u001b[0m\u001b[0;34m\u001b[0m\u001b[0m\n\u001b[1;32m    217\u001b[0m             \u001b[0;31m# This promotes 1-D vectors to row vectors\u001b[0m\u001b[0;34m\u001b[0m\u001b[0;34m\u001b[0m\u001b[0;34m\u001b[0m\u001b[0m\n\u001b[0;32m--> 218\u001b[0;31m             \u001b[0;32mreturn\u001b[0m \u001b[0mN\u001b[0m\u001b[0;34m.\u001b[0m\u001b[0mdot\u001b[0m\u001b[0;34m(\u001b[0m\u001b[0mself\u001b[0m\u001b[0;34m,\u001b[0m \u001b[0masmatrix\u001b[0m\u001b[0;34m(\u001b[0m\u001b[0mother\u001b[0m\u001b[0;34m)\u001b[0m\u001b[0;34m)\u001b[0m\u001b[0;34m\u001b[0m\u001b[0;34m\u001b[0m\u001b[0m\n\u001b[0m\u001b[1;32m    219\u001b[0m         \u001b[0;32mif\u001b[0m \u001b[0misscalar\u001b[0m\u001b[0;34m(\u001b[0m\u001b[0mother\u001b[0m\u001b[0;34m)\u001b[0m \u001b[0;32mor\u001b[0m \u001b[0;32mnot\u001b[0m \u001b[0mhasattr\u001b[0m\u001b[0;34m(\u001b[0m\u001b[0mother\u001b[0m\u001b[0;34m,\u001b[0m \u001b[0;34m'__rmul__'\u001b[0m\u001b[0;34m)\u001b[0m \u001b[0;34m:\u001b[0m\u001b[0;34m\u001b[0m\u001b[0;34m\u001b[0m\u001b[0m\n\u001b[1;32m    220\u001b[0m             \u001b[0;32mreturn\u001b[0m \u001b[0mN\u001b[0m\u001b[0;34m.\u001b[0m\u001b[0mdot\u001b[0m\u001b[0;34m(\u001b[0m\u001b[0mself\u001b[0m\u001b[0;34m,\u001b[0m \u001b[0mother\u001b[0m\u001b[0;34m)\u001b[0m\u001b[0;34m\u001b[0m\u001b[0;34m\u001b[0m\u001b[0m\n",
            "\u001b[0;32m<__array_function__ internals>\u001b[0m in \u001b[0;36mdot\u001b[0;34m(*args, **kwargs)\u001b[0m\n",
            "\u001b[0;31mValueError\u001b[0m: shapes (1,5) and (1,5) not aligned: 5 (dim 1) != 1 (dim 0)"
          ]
        }
      ]
    },
    {
      "cell_type": "code",
      "metadata": {
        "id": "_Vv4FJa0MoT1"
      },
      "source": [
        "#Objective 8.\n",
        "#Make a scatterplot of the corresponding values (x,y) = (portfolio_standard_deviation, portfolio_mean) from the\n",
        "#lists \"portfolio_standard_deviations\" and \"portfolio_means\", respectively.\n",
        "\n",
        "plt.plot(portfolio_standard_deviations, portfolio_means, 'o', markersize = 3, color = 'lightskyblue') \n",
        "plt.show()"
      ],
      "execution_count": null,
      "outputs": []
    },
    {
      "cell_type": "code",
      "metadata": {
        "id": "qB20Ic3RMoT2"
      },
      "source": [
        "#Objective 9.\n",
        "#Find the list index of the portfolio of highest Sharpe ratio.\n",
        "\n",
        "index = np.armagx(portfolio_sharpe_ratios,axi=0)"
      ],
      "execution_count": null,
      "outputs": []
    },
    {
      "cell_type": "code",
      "metadata": {
        "id": "ysvXTaCdMoT3"
      },
      "source": [
        "#Objective 10.\n",
        "#Print the asset weights and Sharpe ratio of the portfolio of highest Sharpe ratio, using index above.\n",
        "\n",
        "print(#todo)\n",
        "print(#todo)"
      ],
      "execution_count": null,
      "outputs": []
    },
    {
      "cell_type": "code",
      "metadata": {
        "id": "cOhlLlCJMoT4"
      },
      "source": [
        "#Objective 11.\n",
        "#Add the Capital Market Line to your scatterplot from Objective 8.\n",
        "\n",
        "x = np.linspace(0, max(portfolio_standard_deviations), 10000)\n",
        "y = portfolio_sharpe_ratios[index] * x\n",
        "plt.plot(portfolio_standard_deviations, portfolio_means, 'o', markersize = 3, color = 'lightskyblue')\n",
        "plt.plot(x, y, '-', linewidth = 2, color = 'green')\n",
        "plt.show()"
      ],
      "execution_count": null,
      "outputs": []
    },
    {
      "cell_type": "code",
      "metadata": {
        "id": "DWqusWtkMoT4"
      },
      "source": [
        "#Objective 12.\n",
        "#All of the work in this notebook assumes a risk-free rate of zero (0.00).  How could this work be modified to\n",
        "#accommodate a nonzero risk-free rate?  Explain."
      ],
      "execution_count": null,
      "outputs": []
    },
    {
      "cell_type": "markdown",
      "metadata": {
        "id": "j2s0st8jMoT5"
      },
      "source": [
        "-- Please write Your Answer Here --"
      ]
    }
  ]
}